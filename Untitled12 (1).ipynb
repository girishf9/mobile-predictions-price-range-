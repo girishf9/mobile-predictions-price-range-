{
  "nbformat": 4,
  "nbformat_minor": 0,
  "metadata": {
    "colab": {
      "name": "Untitled12.ipynb",
      "provenance": [],
      "collapsed_sections": []
    },
    "kernelspec": {
      "name": "python3",
      "display_name": "Python 3"
    }
  },
  "cells": [
    {
      "cell_type": "code",
      "metadata": {
        "id": "5xHPOkYWuCwe",
        "colab_type": "code",
        "colab": {}
      },
      "source": [
        "import pandas as pd\n",
        "import numpy as np\n",
        "import matplotlib as plt\n",
        "%matplotlib inline\n",
        "import seaborn as sns\n",
        "import os\n",
        "from sklearn.ensemble import AdaBoostClassifier"
      ],
      "execution_count": 0,
      "outputs": []
    },
    {
      "cell_type": "code",
      "metadata": {
        "id": "7g9sjUeIFACa",
        "colab_type": "code",
        "colab": {}
      },
      "source": [
        "train=pd.read_csv('train_data.csv')\n",
        "test=pd.read_csv('test_data.csv')\n",
        "sample_sub=pd.read_csv('sample_submission.csv')"
      ],
      "execution_count": 0,
      "outputs": []
    },
    {
      "cell_type": "code",
      "metadata": {
        "id": "0cZhHq_GuJSJ",
        "colab_type": "code",
        "colab": {
          "base_uri": "https://localhost:8080/",
          "height": 252
        },
        "outputId": "2eb2831d-69c8-47cc-9292-00109c94c4eb"
      },
      "source": [
        "train.head"
      ],
      "execution_count": 28,
      "outputs": [
        {
          "output_type": "execute_result",
          "data": {
            "text/plain": [
              "<bound method NDFrame.head of         id  battery_power  bluetooth  ...  touch_screen  wifi  price_range\n",
              "0        1            807          1  ...             0     0            1\n",
              "1        2           1065          1  ...             0     1            2\n",
              "2        3           1171          1  ...             0     0            0\n",
              "3        4            609          1  ...             0     1            1\n",
              "4        5           1193          1  ...             0     0            2\n",
              "...    ...            ...        ...  ...           ...   ...          ...\n",
              "1395  1396           1100          1  ...             1     1            0\n",
              "1396  1397           1358          0  ...             0     1            3\n",
              "1397  1398           1034          1  ...             1     1            3\n",
              "1398  1399            703          1  ...             0     0            0\n",
              "1399  1400           1064          0  ...             0     0            0\n",
              "\n",
              "[1400 rows x 22 columns]>"
            ]
          },
          "metadata": {
            "tags": []
          },
          "execution_count": 28
        }
      ]
    },
    {
      "cell_type": "code",
      "metadata": {
        "id": "sRSGP24YuMTf",
        "colab_type": "code",
        "colab": {
          "base_uri": "https://localhost:8080/",
          "height": 252
        },
        "outputId": "28ad1770-3e7f-4529-859d-4cc89a1e99f4"
      },
      "source": [
        "test.head"
      ],
      "execution_count": 29,
      "outputs": [
        {
          "output_type": "execute_result",
          "data": {
            "text/plain": [
              "<bound method NDFrame.head of        id  battery_power  bluetooth  ...  three_g  touch_screen  wifi\n",
              "0    1401           1572          1  ...        1             1     1\n",
              "1    1402            707          0  ...        1             0     1\n",
              "2    1403            983          0  ...        1             0     1\n",
              "3    1404            827          1  ...        1             0     1\n",
              "4    1405           1975          1  ...        0             0     1\n",
              "..    ...            ...        ...  ...      ...           ...   ...\n",
              "595  1996            707          0  ...        1             1     1\n",
              "596  1997            888          0  ...        1             0     0\n",
              "597  1998           1130          0  ...        1             1     0\n",
              "598  1999            837          0  ...        1             0     1\n",
              "599  2000           1866          0  ...        0             0     0\n",
              "\n",
              "[600 rows x 21 columns]>"
            ]
          },
          "metadata": {
            "tags": []
          },
          "execution_count": 29
        }
      ]
    },
    {
      "cell_type": "code",
      "metadata": {
        "id": "8kJHBfXIuPxX",
        "colab_type": "code",
        "colab": {}
      },
      "source": [
        "x_train=train.drop(columns=['price_range'])\n",
        "y_train=train[['price_range']]\n",
        "test_clean=test"
      ],
      "execution_count": 0,
      "outputs": []
    },
    {
      "cell_type": "code",
      "metadata": {
        "id": "-2P5JPvruSZy",
        "colab_type": "code",
        "colab": {}
      },
      "source": [
        "from sklearn.preprocessing import StandardScaler\n",
        "\n",
        "sc = StandardScaler()\n",
        "sc.fit(x_train)\n",
        "\n",
        "# Scaling the train and test sets.\n",
        "x_train_st = sc.transform(x_train)\n",
        "x_test_st = sc.transform(test_clean)"
      ],
      "execution_count": 0,
      "outputs": []
    },
    {
      "cell_type": "code",
      "metadata": {
        "id": "MQQ9tFK9uVbj",
        "colab_type": "code",
        "colab": {
          "base_uri": "https://localhost:8080/",
          "height": 215
        },
        "outputId": "97dad4e9-a340-4695-f9cc-4ab54b900cb7"
      },
      "source": [
        "pd.DataFrame(x_train_st).head()  "
      ],
      "execution_count": 32,
      "outputs": [
        {
          "output_type": "execute_result",
          "data": {
            "text/html": [
              "<div>\n",
              "<style scoped>\n",
              "    .dataframe tbody tr th:only-of-type {\n",
              "        vertical-align: middle;\n",
              "    }\n",
              "\n",
              "    .dataframe tbody tr th {\n",
              "        vertical-align: top;\n",
              "    }\n",
              "\n",
              "    .dataframe thead th {\n",
              "        text-align: right;\n",
              "    }\n",
              "</style>\n",
              "<table border=\"1\" class=\"dataframe\">\n",
              "  <thead>\n",
              "    <tr style=\"text-align: right;\">\n",
              "      <th></th>\n",
              "      <th>0</th>\n",
              "      <th>1</th>\n",
              "      <th>2</th>\n",
              "      <th>3</th>\n",
              "      <th>4</th>\n",
              "      <th>5</th>\n",
              "      <th>6</th>\n",
              "      <th>7</th>\n",
              "      <th>8</th>\n",
              "      <th>9</th>\n",
              "      <th>10</th>\n",
              "      <th>11</th>\n",
              "      <th>12</th>\n",
              "      <th>13</th>\n",
              "      <th>14</th>\n",
              "      <th>15</th>\n",
              "      <th>16</th>\n",
              "      <th>17</th>\n",
              "      <th>18</th>\n",
              "      <th>19</th>\n",
              "      <th>20</th>\n",
              "    </tr>\n",
              "  </thead>\n",
              "  <tbody>\n",
              "    <tr>\n",
              "      <th>0</th>\n",
              "      <td>-1.730814</td>\n",
              "      <td>-0.976452</td>\n",
              "      <td>1.00143</td>\n",
              "      <td>-1.245224</td>\n",
              "      <td>0.988636</td>\n",
              "      <td>-0.991789</td>\n",
              "      <td>-1.031938</td>\n",
              "      <td>0.266596</td>\n",
              "      <td>-1.052203</td>\n",
              "      <td>-0.371322</td>\n",
              "      <td>-0.247588</td>\n",
              "      <td>-1.624363</td>\n",
              "      <td>-0.911125</td>\n",
              "      <td>-0.971849</td>\n",
              "      <td>0.180472</td>\n",
              "      <td>-1.753980</td>\n",
              "      <td>-0.408538</td>\n",
              "      <td>-1.257549</td>\n",
              "      <td>-1.762263</td>\n",
              "      <td>-1.007169</td>\n",
              "      <td>-1.024588</td>\n",
              "    </tr>\n",
              "    <tr>\n",
              "      <th>1</th>\n",
              "      <td>-1.728340</td>\n",
              "      <td>-0.390618</td>\n",
              "      <td>1.00143</td>\n",
              "      <td>-1.245224</td>\n",
              "      <td>-1.011495</td>\n",
              "      <td>-0.991789</td>\n",
              "      <td>0.969050</td>\n",
              "      <td>-0.996928</td>\n",
              "      <td>0.671913</td>\n",
              "      <td>-1.446330</td>\n",
              "      <td>-1.125115</td>\n",
              "      <td>-1.293608</td>\n",
              "      <td>-1.038609</td>\n",
              "      <td>-0.740549</td>\n",
              "      <td>0.878873</td>\n",
              "      <td>-0.551683</td>\n",
              "      <td>-1.094333</td>\n",
              "      <td>1.267598</td>\n",
              "      <td>0.567452</td>\n",
              "      <td>-1.007169</td>\n",
              "      <td>0.976002</td>\n",
              "    </tr>\n",
              "    <tr>\n",
              "      <th>2</th>\n",
              "      <td>-1.725865</td>\n",
              "      <td>-0.149926</td>\n",
              "      <td>1.00143</td>\n",
              "      <td>0.211077</td>\n",
              "      <td>0.988636</td>\n",
              "      <td>-0.521189</td>\n",
              "      <td>-1.031938</td>\n",
              "      <td>-0.722249</td>\n",
              "      <td>-0.707380</td>\n",
              "      <td>0.760265</td>\n",
              "      <td>1.068703</td>\n",
              "      <td>1.517813</td>\n",
              "      <td>-0.904415</td>\n",
              "      <td>-1.144740</td>\n",
              "      <td>-1.711378</td>\n",
              "      <td>-1.513521</td>\n",
              "      <td>-0.179940</td>\n",
              "      <td>-0.536078</td>\n",
              "      <td>-1.762263</td>\n",
              "      <td>-1.007169</td>\n",
              "      <td>-1.024588</td>\n",
              "    </tr>\n",
              "    <tr>\n",
              "      <th>3</th>\n",
              "      <td>-1.723391</td>\n",
              "      <td>-1.426045</td>\n",
              "      <td>1.00143</td>\n",
              "      <td>1.788737</td>\n",
              "      <td>-1.011495</td>\n",
              "      <td>2.537708</td>\n",
              "      <td>0.969050</td>\n",
              "      <td>0.651147</td>\n",
              "      <td>-0.707380</td>\n",
              "      <td>-0.654219</td>\n",
              "      <td>-1.563879</td>\n",
              "      <td>1.021680</td>\n",
              "      <td>-1.329363</td>\n",
              "      <td>0.018769</td>\n",
              "      <td>0.421554</td>\n",
              "      <td>0.650615</td>\n",
              "      <td>1.191650</td>\n",
              "      <td>0.726495</td>\n",
              "      <td>0.567452</td>\n",
              "      <td>-1.007169</td>\n",
              "      <td>0.976002</td>\n",
              "    </tr>\n",
              "    <tr>\n",
              "      <th>4</th>\n",
              "      <td>-1.720917</td>\n",
              "      <td>-0.099971</td>\n",
              "      <td>1.00143</td>\n",
              "      <td>0.939228</td>\n",
              "      <td>-1.011495</td>\n",
              "      <td>0.655310</td>\n",
              "      <td>-1.031938</td>\n",
              "      <td>-0.667313</td>\n",
              "      <td>1.706382</td>\n",
              "      <td>0.505658</td>\n",
              "      <td>1.068703</td>\n",
              "      <td>0.525547</td>\n",
              "      <td>1.766046</td>\n",
              "      <td>1.539742</td>\n",
              "      <td>-0.151706</td>\n",
              "      <td>-1.273061</td>\n",
              "      <td>-0.179940</td>\n",
              "      <td>-1.618284</td>\n",
              "      <td>0.567452</td>\n",
              "      <td>-1.007169</td>\n",
              "      <td>-1.024588</td>\n",
              "    </tr>\n",
              "  </tbody>\n",
              "</table>\n",
              "</div>"
            ],
            "text/plain": [
              "         0         1        2   ...        18        19        20\n",
              "0 -1.730814 -0.976452  1.00143  ... -1.762263 -1.007169 -1.024588\n",
              "1 -1.728340 -0.390618  1.00143  ...  0.567452 -1.007169  0.976002\n",
              "2 -1.725865 -0.149926  1.00143  ... -1.762263 -1.007169 -1.024588\n",
              "3 -1.723391 -1.426045  1.00143  ...  0.567452 -1.007169  0.976002\n",
              "4 -1.720917 -0.099971  1.00143  ...  0.567452 -1.007169 -1.024588\n",
              "\n",
              "[5 rows x 21 columns]"
            ]
          },
          "metadata": {
            "tags": []
          },
          "execution_count": 32
        }
      ]
    },
    {
      "cell_type": "code",
      "metadata": {
        "id": "DedAIwk3GFyd",
        "colab_type": "code",
        "colab": {}
      },
      "source": [
        "from sklearn.linear_model import LogisticRegression\n",
        "LR=LogisticRegression().fit(x_train_std,y_train.values.ravel())\n",
        "y_pred=LR.predict(x_test_std)"
      ],
      "execution_count": 0,
      "outputs": []
    },
    {
      "cell_type": "code",
      "metadata": {
        "id": "l9x_vxS_GFpl",
        "colab_type": "code",
        "colab": {
          "base_uri": "https://localhost:8080/",
          "height": 202
        },
        "outputId": "9187209b-a711-4413-e5c9-ccf197f7ae8a"
      },
      "source": [
        "from sklearn.metrics import classification_report\n",
        "print(classification_report(y_pred,sample_sub['price_range']))"
      ],
      "execution_count": 34,
      "outputs": [
        {
          "output_type": "stream",
          "text": [
            "              precision    recall  f1-score   support\n",
            "\n",
            "           0       0.21      0.23      0.22       146\n",
            "           1       0.22      0.19      0.21       149\n",
            "           2       0.27      0.26      0.26       143\n",
            "           3       0.29      0.30      0.30       162\n",
            "\n",
            "    accuracy                           0.25       600\n",
            "   macro avg       0.25      0.25      0.25       600\n",
            "weighted avg       0.25      0.25      0.25       600\n",
            "\n"
          ],
          "name": "stdout"
        }
      ]
    },
    {
      "cell_type": "code",
      "metadata": {
        "id": "apEULto3GFiy",
        "colab_type": "code",
        "colab": {
          "base_uri": "https://localhost:8080/",
          "height": 50
        },
        "outputId": "aa4710ba-17ca-4a6b-8987-d0a5a809b441"
      },
      "source": [
        "from sklearn.model_selection import cross_val_score\n",
        "score = cross_val_score(LogisticRegression(),x_train_std,y_train.values.ravel(),cv=5)\n",
        "print(score)\n",
        "print(score.mean()) \n"
      ],
      "execution_count": 35,
      "outputs": [
        {
          "output_type": "stream",
          "text": [
            "[0.94285714 0.93214286 0.95357143 0.91785714 0.93928571]\n",
            "0.9371428571428572\n"
          ],
          "name": "stdout"
        }
      ]
    },
    {
      "cell_type": "code",
      "metadata": {
        "id": "WJQvwNXiGFXQ",
        "colab_type": "code",
        "colab": {
          "base_uri": "https://localhost:8080/",
          "height": 84
        },
        "outputId": "b3eb28c1-011f-436c-a31a-98f85dac6230"
      },
      "source": [
        "from sklearn.model_selection import GridSearchCV\n",
        "# grid={\"C\":np.logspace(-4,4,20), \"penalty\":[\"l1\",\"l2\"],\n",
        "#       'solver' : ['lbfgs','liblinear']}\n",
        "grid={'C': [0.1, 0.5, 1.0], 'max_iter': [100, 200, 500],\n",
        "                         'penalty': ['l2'],\n",
        "                         'solver': ['liblinear', 'lbfgs', 'newton-cg']},\n",
        "score=GridSearchCV(LogisticRegression(),grid).fit(x_train_std,y_train.values.ravel())\n",
        "grid"
      ],
      "execution_count": 36,
      "outputs": [
        {
          "output_type": "execute_result",
          "data": {
            "text/plain": [
              "({'C': [0.1, 0.5, 1.0],\n",
              "  'max_iter': [100, 200, 500],\n",
              "  'penalty': ['l2'],\n",
              "  'solver': ['liblinear', 'lbfgs', 'newton-cg']},)"
            ]
          },
          "metadata": {
            "tags": []
          },
          "execution_count": 36
        }
      ]
    },
    {
      "cell_type": "code",
      "metadata": {
        "id": "QKrYOQCtGZcg",
        "colab_type": "code",
        "colab": {
          "base_uri": "https://localhost:8080/",
          "height": 50
        },
        "outputId": "87e37df9-fdf7-4137-8c63-bef9d628ce39"
      },
      "source": [
        "score=GridSearchCV(LogisticRegression(),grid).fit(x_train_std,y_train.values.ravel())\n",
        "print(score.best_params_)\n",
        "print(score.best_score_)"
      ],
      "execution_count": 37,
      "outputs": [
        {
          "output_type": "stream",
          "text": [
            "{'C': 1.0, 'max_iter': 100, 'penalty': 'l2', 'solver': 'lbfgs'}\n",
            "0.9371428571428572\n"
          ],
          "name": "stdout"
        }
      ]
    },
    {
      "cell_type": "code",
      "metadata": {
        "id": "HtEgu3kXGZMu",
        "colab_type": "code",
        "colab": {}
      },
      "source": [
        "#random forest\n",
        "from sklearn.ensemble import RandomForestClassifier\n",
        "RF=RandomForestClassifier().fit(x_train_st,y_train.values.ravel())\n",
        "y_pred_rf=RF.predict(test_clean)\n"
      ],
      "execution_count": 0,
      "outputs": []
    },
    {
      "cell_type": "code",
      "metadata": {
        "id": "uYrjIOPQGmco",
        "colab_type": "code",
        "colab": {
          "base_uri": "https://localhost:8080/",
          "height": 67
        },
        "outputId": "bf6384c5-8f70-42e7-f05a-40d055962347"
      },
      "source": [
        "from sklearn.metrics import classification_report\n",
        "score = cross_val_score(RandomForestClassifier(),x_train_st,y_train.values.ravel(),cv=10)\n",
        "print(score)\n",
        "print(score.mean())"
      ],
      "execution_count": 39,
      "outputs": [
        {
          "output_type": "stream",
          "text": [
            "[0.84285714 0.87142857 0.85714286 0.80714286 0.87142857 0.89285714\n",
            " 0.86428571 0.85714286 0.81428571 0.87857143]\n",
            "0.8557142857142856\n"
          ],
          "name": "stdout"
        }
      ]
    },
    {
      "cell_type": "code",
      "metadata": {
        "id": "pUSTFEifGmQU",
        "colab_type": "code",
        "colab": {
          "base_uri": "https://localhost:8080/",
          "height": 50
        },
        "outputId": "00d3d3ff-4b02-4405-a016-2bb1277fcc94"
      },
      "source": [
        "#svc model\n",
        "from sklearn.svm import SVC\n",
        "from sklearn.model_selection import cross_val_score\n",
        "svc=SVC(kernel='linear',C=1)\n",
        "score=cross_val_score(svc,x_train_std,y_train.values.ravel(),cv=5)\n",
        "print(score)\n",
        "print(score.mean())"
      ],
      "execution_count": 40,
      "outputs": [
        {
          "output_type": "stream",
          "text": [
            "[0.95357143 0.96071429 0.94642857 0.94285714 0.93928571]\n",
            "0.9485714285714286\n"
          ],
          "name": "stdout"
        }
      ]
    },
    {
      "cell_type": "code",
      "metadata": {
        "id": "j8Zfr_9XG3oR",
        "colab_type": "code",
        "colab": {
          "base_uri": "https://localhost:8080/",
          "height": 50
        },
        "outputId": "7f48c8bf-ec91-43bf-960a-6f4df04ffe15"
      },
      "source": [
        "#decisiontreeclassifier\n",
        "from sklearn.tree import DecisionTreeClassifier\n",
        "from sklearn.model_selection import cross_val_score\n",
        "dtc=DecisionTreeClassifier()\n",
        "score=cross_val_score(svc,x_train_std,y_train.values.ravel(),cv=5)\n",
        "print(score)\n",
        "print(score.mean())"
      ],
      "execution_count": 41,
      "outputs": [
        {
          "output_type": "stream",
          "text": [
            "[0.95357143 0.96071429 0.94642857 0.94285714 0.93928571]\n",
            "0.9485714285714286\n"
          ],
          "name": "stdout"
        }
      ]
    },
    {
      "cell_type": "code",
      "metadata": {
        "id": "dJT4tHAAubHL",
        "colab_type": "code",
        "colab": {}
      },
      "source": [
        ""
      ],
      "execution_count": 0,
      "outputs": []
    }
  ]
}